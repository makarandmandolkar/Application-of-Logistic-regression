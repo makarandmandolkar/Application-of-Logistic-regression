import pandas as pd
import sklearn.datasets 
import matplotlib.pyplot as plt  
import numpy as np 
from sklearn.model_selection import train_test_split
from sklearn.metrics import confusion_matrix
import matplotlib.pyplot

data = pd.read_csv('wdbc.csv',header=None)
X=data.iloc[:,2:]
Y=data.iloc[:,1:2]

Y=Y.replace(to_replace='M',value=1)
Y=Y.replace(to_replace='B',value=0)

X_norm = (X - X.mean()) / (X.max() - X.min())

X_train,X_test_full, Y_train, Y_test_full = train_test_split(X_norm, Y, test_size=0.20, random_state=42)

X_validate,X_test, Y_validate, Y_test  = train_test_split(X_test_full, Y_test_full, test_size=0.50, random_state=42)

#X_train, Y_train = X_train.T, Y_train.T
epochs = 1000  
learningrate = 0.01

print('Epochs : ',epochs)
print('Learningrate : ',learningrate)

def sigmoid(z):  
    return 1 / (1 + np.e**(-z))

def predict(X,w,b):
    z=np.dot(X,w) + b
    return np.round(sigmoid(z))

def cost_fun(X,Y,w,m):
    z = np.dot(X,w) + b 
    p = sigmoid(z)  
    cost = -np.sum(np.multiply(np.log(p), Y) + np.multiply((1 - Y), np.log(1 - p)))/m 
    return cost,p

def Metrics(w,b):
    Test_prediction=predict(X_test,w,b)
    tn, fp, fn, tp = confusion_matrix(Y_test,Test_prediction).ravel()
    Accuracy = ((tp+tn)/(tp+tn+fp+fn))
    Precision = (tp/(tp+fp))
    Recall = (tp/(tp+fn))
    return Accuracy, Precision, Recall
    
losstrack = [] 
losstrack_validate = []
accuracy = []
m = X_train.shape[1]
m_v = X_validate.shape[1]  
w = np.random.randn(X_train.shape[1], 1)*0.01 
b = 0.0

for epoch in range(epochs):  
    cost_train,p_train = cost_fun(X_train,Y_train,w,m)
    cost_validate,p_val = cost_fun(X_validate,Y_validate,w,m_v)
    Accuracy, Precision, Recall = Metrics(w,b)
    losstrack.append(np.squeeze(cost_train)) 
    losstrack_validate.append(np.squeeze(cost_validate))
    accuracy.append(np.squeeze(Accuracy))
    dz = p_train-Y_train 
    dw = (1 / m) * np.dot(X_train.T, dz) 
    db = float((1 / m) * np.sum(dz))
    w = w - learningrate * dw 
    b = b - learningrate * db 

print('Accuracy : ',Accuracy)
print('Precision : ',Precision)
print('Recall : ',Recall)


plt.figure(1)
# naming the x axis
plt.xlabel('epochs') 
# naming the y axis 
plt.ylabel('cost')
plt.plot(losstrack,'b',label='Training Loss Graph')
plt.plot(losstrack_validate,'r',label='Validation Loss Graph')
plt.legend(loc='best')
plt.savefig('Train-Validate.png')

plt.figure(2)
# naming the x axis
plt.xlabel('epochs') 
# naming the y axis 
plt.ylabel('training_accuracy')
plt.plot(accuracy,'g',label='Accuracy & Epoch Graph')
plt.legend(loc='best')
plt.savefig('Accuracy-Epoch.png')
